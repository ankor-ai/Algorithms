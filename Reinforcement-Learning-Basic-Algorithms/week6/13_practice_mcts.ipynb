{
 "cells": [
  {
   "cell_type": "markdown",
   "metadata": {},
   "source": [
    "# [Practical Reinforcement Learning MOOC on Coursera](https://www.coursera.org/learn/practical-rl)"
   ]
  },
  {
   "cell_type": "markdown",
   "metadata": {},
   "source": [
    "## Seminar - Assignment 13: Monte-carlo tree search\n",
    "\n",
    "In this seminar, we'll implement a vanilla MCTS planning and use it to solve some Gym envs."
   ]
  },
  {
   "cell_type": "code",
   "execution_count": 2,
   "metadata": {},
   "outputs": [],
   "source": [
    "import gym\n",
    "import numpy as np\n",
    "import matplotlib.pyplot as plt\n",
    "%matplotlib inline"
   ]
  },
  {
   "cell_type": "markdown",
   "metadata": {},
   "source": [
    "But before we do that, we first need to modify gym env to allow saving and loading game states to facilitate backtracking."
   ]
  },
  {
   "cell_type": "code",
   "execution_count": 184,
   "metadata": {},
   "outputs": [],
   "source": [
    "from gym.core import Wrapper\n",
    "from pickle import dumps,loads\n",
    "from collections import namedtuple\n",
    "\n",
    "# a container for get_result function below. Works just like tuple, but prettier\n",
    "ActionResult = namedtuple(\"action_result\",(\"snapshot\",\"observation\",\"reward\",\"is_done\",\"info\"))\n",
    "\n",
    "\n",
    "class WithSnapshots(Wrapper):\n",
    "    \"\"\"\n",
    "    Creates a wrapper that supports saving and loading environemnt states.\n",
    "    Required for planning algorithms.\n",
    "\n",
    "    This class will have access to the core environment as self.env, e.g.:\n",
    "    - self.env.reset()           #reset original env\n",
    "    - self.env.ale.cloneState()  #make snapshot for atari. load with .restoreState()\n",
    "    - ...\n",
    "\n",
    "    You can also use reset, step and render directly for convenience.\n",
    "    - s, r, done, _ = self.step(action)   #step, same as self.env.step(action)\n",
    "    - self.render(close=True)             #close window, same as self.env.render(close=True)\n",
    "    \"\"\"\n",
    "\n",
    "        \n",
    "    def get_snapshot(self):\n",
    "        \"\"\"\n",
    "        :returns: environment state that can be loaded with load_snapshot \n",
    "        Snapshots guarantee same env behaviour each time they are loaded.\n",
    "        \n",
    "        Warning! Snapshots can be arbitrary things (strings, integers, json, tuples)\n",
    "        Don't count on them being pickle strings when implementing MCTS.\n",
    "        \n",
    "        Developer Note: Make sure the object you return will not be affected by \n",
    "        anything that happens to the environment after it's saved.\n",
    "        You shouldn't, for example, return self.env. \n",
    "        In case of doubt, use pickle.dumps or deepcopy.\n",
    "        \n",
    "        \"\"\"\n",
    "        #self.render() #close popup windows since we can't pickle them\n",
    "        if self.unwrapped.viewer is not None:\n",
    "            self.unwrapped.viewer.close()\n",
    "            self.unwrapped.viewer = None\n",
    "        return dumps(self.env)\n",
    "    \n",
    "    def load_snapshot(self,snapshot):\n",
    "        \"\"\"\n",
    "        Loads snapshot as current env state.\n",
    "        Should not change snapshot inplace (in case of doubt, deepcopy).\n",
    "        \"\"\"\n",
    "        \n",
    "        assert not hasattr(self,\"_monitor\") or hasattr(self.env,\"_monitor\"), \"can't backtrack while recording\"\n",
    "\n",
    "        self.render(close=True) #close popup windows since we can't load into them\n",
    "        self.env = loads(snapshot)\n",
    "    \n",
    "    def get_result(self,snapshot,action):\n",
    "        \"\"\"\n",
    "        A convenience function that \n",
    "        - loads snapshot, \n",
    "        - commits action via self.step,\n",
    "        - and takes snapshot again :)\n",
    "        \n",
    "        :returns: next snapshot, next_observation, reward, is_done, info\n",
    "        \n",
    "        Basically it returns next snapshot and everything that env.step would have returned.\n",
    "        \"\"\"\n",
    "        \n",
    "        self.load_snapshot(snapshot)\n",
    "        state, reward, is_done, info = self.env.step(action)\n",
    "        next_snapshot = self.get_snapshot()\n",
    "        \n",
    "        return ActionResult(next_snapshot,\n",
    "                            state, \n",
    "                            reward,\n",
    "                            is_done,\n",
    "                            info)\n"
   ]
  },
  {
   "cell_type": "markdown",
   "metadata": {},
   "source": [
    "### try out snapshots:\n"
   ]
  },
  {
   "cell_type": "code",
   "execution_count": 143,
   "metadata": {},
   "outputs": [],
   "source": [
    "#make env\n",
    "env = WithSnapshots(gym.make(\"CartPole-v0\"))\n",
    "env.reset()\n",
    "\n",
    "n_actions = env.action_space.n"
   ]
  },
  {
   "cell_type": "code",
   "execution_count": 144,
   "metadata": {},
   "outputs": [
    {
     "name": "stdout",
     "output_type": "stream",
     "text": [
      "initial_state:\n"
     ]
    },
    {
     "data": {
      "image/png": "[encoded data removed]",
      "text/plain": [
       "<matplotlib.figure.Figure at 0x7f623c050320>"
      ]
     },
     "metadata": {},
     "output_type": "display_data"
    }
   ],
   "source": [
    "print(\"initial_state:\")\n",
    "\n",
    "plt.imshow(env.render('rgb_array'))\n",
    "\n",
    "#create first snapshot\n",
    "snap0 = env.get_snapshot()"
   ]
  },
  {
   "cell_type": "code",
   "execution_count": 145,
   "metadata": {},
   "outputs": [
    {
     "name": "stdout",
     "output_type": "stream",
     "text": [
      "Whoops! We died!\n",
      "final state:\n"
     ]
    },
    {
     "data": {
      "image/png": "[encoded data removed]",
      "text/plain": [
       "<matplotlib.figure.Figure at 0x7f623c926470>"
      ]
     },
     "metadata": {},
     "output_type": "display_data"
    }
   ],
   "source": [
    "#play without making snapshots (faster)\n",
    "while True:\n",
    "    is_done = env.step(env.action_space.sample())[2]\n",
    "    if is_done: \n",
    "        print(\"Whoops! We died!\")\n",
    "        break\n",
    "        \n",
    "print(\"final state:\")\n",
    "plt.imshow(env.render('rgb_array'))\n",
    "plt.show()\n"
   ]
  },
  {
   "cell_type": "code",
   "execution_count": 146,
   "metadata": {},
   "outputs": [
    {
     "name": "stdout",
     "output_type": "stream",
     "text": [
      "\n",
      "\n",
      "After loading snapshot\n"
     ]
    },
    {
     "data": {
      "image/png": "[encoded data removed]",
      "text/plain": [
       "<matplotlib.figure.Figure at 0x7f623c9d1898>"
      ]
     },
     "metadata": {},
     "output_type": "display_data"
    }
   ],
   "source": [
    "#reload initial state\n",
    "env.load_snapshot(snap0)\n",
    "\n",
    "print(\"\\n\\nAfter loading snapshot\")\n",
    "plt.imshow(env.render('rgb_array'))\n",
    "plt.show()"
   ]
  },
  {
   "cell_type": "code",
   "execution_count": 147,
   "metadata": {},
   "outputs": [],
   "source": [
    "#get outcome (snapshot, observation, reward, is_done, info)\n",
    "res = env.get_result(snap0,env.action_space.sample())\n",
    "\n",
    "snap1, observation, reward = res[:3]\n",
    "\n",
    "#second step\n",
    "res2 = env.get_result(snap1,env.action_space.sample())"
   ]
  },
  {
   "cell_type": "markdown",
   "metadata": {},
   "source": [
    "# MCTS: Monte-Carlo tree search\n",
    "\n",
    "In this section, we'll implement the vanilla MCTS algorithm with UCB1-based node selection.\n",
    "\n",
    "We will start by implementing the `Node` class - a simple class that acts like MCTS node and supports some of the MCTS algorithm steps.\n",
    "\n",
    "This MCTS implementation makes some assumptions about the environment, you can find those _in the notes section at the end of the notebook_."
   ]
  },
  {
   "cell_type": "code",
   "execution_count": 148,
   "metadata": {},
   "outputs": [],
   "source": [
    "assert isinstance(env,WithSnapshots)"
   ]
  },
  {
   "cell_type": "code",
   "execution_count": 149,
   "metadata": {},
   "outputs": [],
   "source": [
    "class Node:\n",
    "    \"\"\" a tree node for MCTS \"\"\"\n",
    "    \n",
    "    #metadata:\n",
    "    parent = None          #parent Node\n",
    "    value_sum = 0.         #sum of state values from all visits (numerator)\n",
    "    times_visited = 0      #counter of visits (denominator)\n",
    "\n",
    "    \n",
    "    def __init__(self,parent,action,):\n",
    "        \"\"\"\n",
    "        Creates and empty node with no children.\n",
    "        Does so by commiting an action and recording outcome.\n",
    "        \n",
    "        :param parent: parent Node\n",
    "        :param action: action to commit from parent Node\n",
    "        \n",
    "        \"\"\"\n",
    "        \n",
    "        self.parent = parent\n",
    "        self.action = action        \n",
    "        self.children = set() #set of child nodes\n",
    "\n",
    "        #get action outcome and save it\n",
    "        res = env.get_result(parent.snapshot,action)\n",
    "        self.snapshot,self.observation,self.immediate_reward,self.is_done,_ = res\n",
    "        \n",
    "        \n",
    "    def is_leaf(self):\n",
    "        return len(self.children)==0\n",
    "    \n",
    "    def is_root(self):\n",
    "        return self.parent is None\n",
    "    \n",
    "    def get_mean_value(self):\n",
    "        return self.value_sum / self.times_visited if self.times_visited !=0 else 0\n",
    "    \n",
    "    def ucb_score(self,scale=10,max_value=1e100):\n",
    "        \"\"\"\n",
    "        Computes ucb1 upper bound using current value and visit counts for node and it's parent.\n",
    "        \n",
    "        :param scale: Multiplies upper bound by that. From hoeffding inequality, assumes reward range to be [0,scale].\n",
    "        :param max_value: a value that represents infinity (for unvisited nodes)\n",
    "        \n",
    "        \"\"\"\n",
    "        \n",
    "        if self.times_visited == 0:\n",
    "            return max_value\n",
    "        \n",
    "        #compute ucb-1 additive component (to be added to mean value)\n",
    "        #hint: you can use self.parent.times_visited for N times node was considered,\n",
    "        # and self.times_visited for n times it was visited\n",
    "        \n",
    "        U = np.sqrt(2*np.log(self.parent.times_visited+1)/(self.times_visited))\n",
    "        \n",
    "        return self.get_mean_value() + scale*U\n",
    "    \n",
    "    \n",
    "    #MCTS steps\n",
    "    \n",
    "    def select_best_leaf(self):\n",
    "        \"\"\"\n",
    "        Picks the leaf with highest priority to expand\n",
    "        Does so by recursively picking nodes with best UCB-1 score until it reaches the leaf.\n",
    "        \n",
    "        \"\"\"\n",
    "        if self.is_leaf():\n",
    "            return self\n",
    "        \n",
    "        children = list(self.children)\n",
    "        \n",
    "        # select best child node in terms of node.ucb_score()\n",
    "        index_max_ucb = np.argmax([child.ucb_score() for child in children])\n",
    "        best_child = children[index_max_ucb]\n",
    "        \n",
    "        return best_child.select_best_leaf()\n",
    "    \n",
    "    def expand(self):\n",
    "        \"\"\"\n",
    "        Expands the current node by creating all possible child nodes.\n",
    "        Then returns one of those children.\n",
    "        \"\"\"\n",
    "        \n",
    "        assert not self.is_done, \"can't expand from terminal state\"\n",
    "\n",
    "        for action in range(n_actions):\n",
    "            self.children.add(Node(self,action))\n",
    "        \n",
    "        return self.select_best_leaf()\n",
    "    \n",
    "    def rollout(self,t_max=10**4):\n",
    "        \"\"\"\n",
    "        Play the game from this state to the end (done) or for t_max steps.\n",
    "        \n",
    "        On each step, pick action at random (hint: env.action_space.sample()).\n",
    "        \n",
    "        Compute sum of rewards from current state till \n",
    "        Note 1: use env.action_space.sample() for random action\n",
    "        Note 2: if node is terminal (self.is_done is True), just return 0\n",
    "        \n",
    "        \"\"\"\n",
    "            \n",
    "        #set env into the appropriate state\n",
    "        env.load_snapshot(self.snapshot)\n",
    "        obs = self.observation\n",
    "        is_done = self.is_done\n",
    "        \n",
    "        # rollout and compute reward\n",
    "        t = 0\n",
    "        rollout_reward = 0\n",
    "        snapshot = self.snapshot\n",
    "        \n",
    "        while (not is_done) and (t < t_max):\n",
    "            res = env.get_result(snapshot, env.action_space.sample())\n",
    "            snapshot, obs, reward, is_done, _ = res\n",
    "            rollout_reward += reward\n",
    "            t += 1\n",
    "            \n",
    "        return rollout_reward\n",
    "    \n",
    "    def propagate(self,child_value):\n",
    "        \"\"\"\n",
    "        Uses child value (sum of rewards) to update parents recursively.\n",
    "        \"\"\"\n",
    "        #compute node value\n",
    "        my_value = self.immediate_reward + child_value\n",
    "        \n",
    "        #update value_sum and times_visited\n",
    "        self.value_sum+=my_value\n",
    "        self.times_visited+=1\n",
    "        \n",
    "        #propagate upwards\n",
    "        if not self.is_root():\n",
    "            self.parent.propagate(my_value)\n",
    "        \n",
    "    def safe_delete(self):\n",
    "        \"\"\"safe delete to prevent memory leak in some python versions\"\"\"\n",
    "        del self.parent\n",
    "        for child in self.children:\n",
    "            child.safe_delete()\n",
    "            del child"
   ]
  },
  {
   "cell_type": "code",
   "execution_count": 174,
   "metadata": {},
   "outputs": [],
   "source": [
    "class Root(Node):\n",
    "    def __init__(self,snapshot,observation):\n",
    "        \"\"\"\n",
    "        creates special node that acts like tree root\n",
    "        :snapshot: snapshot (from env.get_snapshot) to start planning from\n",
    "        :observation: last environment observation\n",
    "        \"\"\"\n",
    "        \n",
    "        self.parent = self.action = None\n",
    "        self.children = set()       #set of child nodes\n",
    "        \n",
    "        #root: load snapshot and observation\n",
    "        self.snapshot = snapshot\n",
    "        self.observation = observation\n",
    "        self.immediate_reward = 0\n",
    "        self.is_done=False\n",
    "    \n",
    "    @staticmethod\n",
    "    def from_node(node):\n",
    "        \"\"\"initializes node as root\"\"\"\n",
    "        root = Root(node.snapshot,node.observation)\n",
    "        #copy data\n",
    "        copied_fields = [\"value_sum\",\"times_visited\",\"children\",\"is_done\"]\n",
    "        for field in copied_fields:\n",
    "            setattr(root,field,getattr(node,field))\n",
    "        return root"
   ]
  },
  {
   "cell_type": "markdown",
   "metadata": {},
   "source": [
    "## Main MCTS loop\n",
    "\n",
    "With all we implemented, MCTS boils down to a trivial piece of code."
   ]
  },
  {
   "cell_type": "code",
   "execution_count": 175,
   "metadata": {},
   "outputs": [],
   "source": [
    "def plan_mcts(root,n_iters=10, verbose=False):\n",
    "    \"\"\"\n",
    "    builds tree with monte-carlo tree search for n_iters iterations\n",
    "    :param root: tree node to plan from\n",
    "    :param n_iters: how many select-expand-simulate-propagete loops to make\n",
    "    \"\"\"\n",
    "    for iteration in range(n_iters):\n",
    "\n",
    "        # select leaf\n",
    "        node = root.select_best_leaf()\n",
    "        rollout_reward = 0\n",
    "        if node.is_done:\n",
    "            node.propagate(rollout_reward)\n",
    "\n",
    "        else: #node is not terminal, then expand-simulate-propagate loop\n",
    "            best_expended_child = node.expand()\n",
    "            rollout_reward = best_expended_child.rollout()\n",
    "            node.propagate(rollout_reward)\n",
    "        if verbose:\n",
    "            print(\"MCTS Iteration {}: a reward of value {} has been propagated.\".format(iteration, rollout_reward))\n"
   ]
  },
  {
   "cell_type": "markdown",
   "metadata": {},
   "source": [
    "## Plan and execute\n",
    "In this section, we use the MCTS implementation to find optimal policy."
   ]
  },
  {
   "cell_type": "code",
   "execution_count": 176,
   "metadata": {},
   "outputs": [],
   "source": [
    "root_observation = env.reset()\n",
    "root_snapshot = env.get_snapshot()\n",
    "root = Root(root_snapshot,root_observation)"
   ]
  },
  {
   "cell_type": "code",
   "execution_count": 177,
   "metadata": {},
   "outputs": [],
   "source": [
    "#plan from root:\n",
    "plan_mcts(root,n_iters=1000, verbose=False)"
   ]
  },
  {
   "cell_type": "code",
   "execution_count": 178,
   "metadata": {},
   "outputs": [
    {
     "data": {
      "image/png": "[encoded data removed]",
      "text/plain": [
       "<matplotlib.figure.Figure at 0x7f623c9bf358>"
      ]
     },
     "metadata": {},
     "output_type": "display_data"
    },
    {
     "name": "stdout",
     "output_type": "stream",
     "text": [
      "Finished with reward =  200.0\n"
     ]
    }
   ],
   "source": [
    "from IPython.display import clear_output\n",
    "from itertools import count\n",
    "from gym.wrappers import Monitor\n",
    "\n",
    "total_reward = 0                #sum of rewards\n",
    "test_env = loads(root_snapshot) #env used to show progress\n",
    "\n",
    "for i in count():\n",
    "    \n",
    "    #get best child\n",
    "    index_max_reward = np.argmax([child.get_mean_value() for child in root.children])\n",
    "    best_child = list(root.children)[index_max_reward] #<select child with highest mean reward> \n",
    "    \n",
    "    \n",
    "    #take action\n",
    "    s,r,done,_ = test_env.step(best_child.action)\n",
    "    \n",
    "    #show image\n",
    "    clear_output(True)\n",
    "    plt.title(\"step %i\"%i)\n",
    "    plt.imshow(test_env.render('rgb_array'))\n",
    "    plt.show()\n",
    "\n",
    "    total_reward += r\n",
    "    if done:\n",
    "        print(\"Finished with reward = \",total_reward)\n",
    "        break\n",
    "    \n",
    "    #discard unrealized part of the tree [because not every child matters :(]\n",
    "    for child in root.children:\n",
    "        if child != best_child:\n",
    "            child.safe_delete()\n",
    "\n",
    "    #declare best child a new root\n",
    "    root = Root.from_node(best_child)\n",
    "       \n",
    "    #If we achieve a leaf, we expand the tree\n",
    "    if root.is_leaf():\n",
    "        plan_mcts(root,n_iters=10)\n",
    "\n",
    "    assert not root.is_leaf(), \"We ran out of tree! Need more planning! Try growing tree right inside the loop.\""
   ]
  },
  {
   "cell_type": "code",
   "execution_count": 179,
   "metadata": {},
   "outputs": [
    {
     "name": "stdout",
     "output_type": "stream",
     "text": [
      "200.0\n"
     ]
    }
   ],
   "source": [
    "print(total_reward)"
   ]
  },
  {
   "cell_type": "markdown",
   "metadata": {
    "collapsed": true
   },
   "source": [
    "## More stuff\n",
    "\n",
    "There's a few things you might want to try if you want to dig deeper:\n",
    "\n",
    "### Node selection and expansion\n",
    "\n",
    "\"Analyze this\" assignment\n",
    "\n",
    "UCB-1 is a weak bound as it relies on a very general bounds (Hoeffding Inequality, to be exact). \n",
    "* Try playing with alpha. The theoretically optimal alpha for CartPole is 200 (max reward). \n",
    "* Use using a different exploration strategy (bayesian UCB, for example)\n",
    "* Expand not all but several random actions per `expand` call. See __the notes below__ for details.\n",
    "\n",
    "The goal is to find out what gives the optimal performance for `CartPole-v0` for different time budgets (i.e. different n_iter in plan_mcts.\n",
    "\n",
    "Evaluate your results on `AcroBot-v1` - do the results change and if so, how can you explain it?\n",
    "\n",
    "\n",
    "### Atari-RAM\n",
    "\n",
    "\"Build this\" assignment\n",
    "\n",
    "Apply MCTS to play atari games. In particular, let's start with ```gym.make(\"MsPacman-ramDeterministic-v0\")```.\n",
    "\n",
    "This requires two things:\n",
    "* Slightly modify WithSnapshots wrapper to work with atari.\n",
    "\n",
    " * Atari has a special interface for snapshots:\n",
    "   ```   \n",
    "   snapshot = self.env.ale.cloneState()\n",
    "   ...\n",
    "   self.env.ale.restoreState(snapshot)\n",
    "   ```\n",
    " * Try it on the env above to make sure it does what you told it to.\n",
    " \n",
    "* Run MCTS on the game above. \n",
    " * Start with small tree size to speed-up computations\n",
    " * You will probably want to rollout for 10-100 steps (t_max) for starters\n",
    " * Consider using discounted rewards (see __notes at the end__)\n",
    " * Try a better rollout policy\n",
    " \n",
    " \n",
    "### Integrate learning into planning\n",
    "\n",
    "Planning on each iteration is a costly thing to do. You can speed things up drastically if you train a classifier to predict which action will turn out to be best according to MCTS.\n",
    "\n",
    "To do so, just record which action did the MCTS agent take on each step and fit something to [state, mcts_optimal_action]\n",
    "* You can also use optimal actions from discarded states to get more (dirty) samples. Just don't forget to fine-tune without them.\n",
    "* It's also worth a try to use P(best_action|state) from your model to select best nodes in addition to UCB\n",
    "* If your model is lightweight enough, try using it as a rollout policy.\n",
    "\n",
    "While CartPole is glorious enough, try expanding this to ```gym.make(\"MsPacmanDeterministic-v0\")```\n",
    "* See previous section on how to wrap atari\n",
    "\n",
    "* Also consider what [AlphaGo Zero](https://deepmind.com/blog/alphago-zero-learning-scratch/) did in this area.\n",
    "\n",
    "### Integrate planning into learning \n",
    "_(this will likely take long time, better consider this as side project when all other deadlines are met)_\n",
    "\n",
    "Incorporate planning into the agent architecture. \n",
    "\n",
    "The goal is to implement [Value Iteration Networks](https://arxiv.org/abs/1602.02867)\n",
    "\n",
    "For starters, remember [week7 assignment](https://github.com/yandexdataschool/Practical_RL/blob/master/week7/7.2_seminar_kung_fu.ipynb)? If not, use [this](http://bit.ly/2oZ34Ap) instead.\n",
    "\n",
    "You will need to switch it into a maze-like game, consider MsPacman or the games from week7 [Bonus: Neural Maps from here](https://github.com/yandexdataschool/Practical_RL/blob/master/week7/7.3_homework.ipynb).\n",
    "\n",
    "You will need to implement a special layer that performs value iteration-like update to a recurrent memory. This can be implemented the same way you did attention from week7 or week8."
   ]
  },
  {
   "cell_type": "markdown",
   "metadata": {},
   "source": [
    "## Notes\n",
    "\n",
    "\n",
    "#### Assumptions\n",
    "\n",
    "The full list of assumptions is\n",
    "* __Finite actions__ - we enumerate all actions in `expand`\n",
    "* __Episodic (finite) MDP__ - while technically it works for infinite mdp, we rollout for $ 10^4$ steps. If you are knowingly infinite, please adjust `t_max` to something more reasonable.\n",
    "* __No discounted rewards__ - we assume $\\gamma=1$. If that isn't the case, you only need to change a two lines in `rollout` and use `my_R = r + gamma*child_R` for `propagate`\n",
    "* __pickleable env__ - won't work if e.g. your env is connected to a web-browser surfing the internet. For custom envs, you may need to modify get_snapshot/load_snapshot from `WithSnapshots`.\n",
    "\n",
    "#### On `get_best_leaf` and `expand` functions\n",
    "\n",
    "This MCTS implementation only selects leaf nodes for expansion.\n",
    "This doesn't break things down because `expand` adds all possible actions. Hence, all non-leaf nodes are by design fully expanded and shouldn't be selected.\n",
    "\n",
    "If you want to only add a few random action on each expand, you will also have to modify `get_best_leaf` to consider returning non-leafs.\n",
    "\n",
    "#### Rollout policy\n",
    "\n",
    "We use a simple uniform policy for rollouts. This introduces a negative bias to good situations that can be messed up completely with random bad action. As a simple example, if you tend to rollout with uniform policy, you better don't use sharp knives and walk near cliffs.\n",
    "\n",
    "You can improve that by integrating a reinforcement _learning_ algorithm with a computationally light agent. You can even train this agent on optimal policy found by the tree search.\n",
    "\n",
    "#### Contributions\n",
    "* Reusing some code from 5vision [solution for deephack.RL](https://github.com/5vision/uct_atari), code by Mikhail Pavlov\n",
    "* Using some code from [this gist](https://gist.github.com/blole/dfebbec182e6b72ec16b66cc7e331110)"
   ]
  },
  {
   "cell_type": "code",
   "execution_count": null,
   "metadata": {
    "collapsed": true
   },
   "outputs": [],
   "source": []
  }
 ],
 "metadata": {
  "kernelspec": {
   "display_name": "Python 3",
   "language": "python",
   "name": "python3"
  },
  "language_info": {
   "codemirror_mode": {
    "name": "ipython",
    "version": 3
   },
   "file_extension": ".py",
   "mimetype": "text/x-python",
   "name": "python",
   "nbconvert_exporter": "python",
   "pygments_lexer": "ipython3",
   "version": "3.5.2"
  }
 },
 "nbformat": 4,
 "nbformat_minor": 1
}
